{
 "cells": [
  {
   "cell_type": "code",
   "execution_count": 1,
   "metadata": {},
   "outputs": [],
   "source": [
    "import os\n",
    "import time\n",
    "import sys\n",
    "import datetime\n",
    "from pathlib import Path\n",
    "from stat import S_ISREG, ST_CTIME, ST_MODE\n",
    "import requests, re\n",
    "from bs4 import BeautifulSoup as BS\n",
    "from pprint import pprint\n",
    "import pandas as pd"
   ]
  },
  {
   "cell_type": "code",
   "execution_count": 17,
   "metadata": {},
   "outputs": [
    {
     "name": "stdout",
     "output_type": "stream",
     "text": [
      "new files 1\n",
      "     type         filename          cloud_date\n",
      "0   cloud  03005099999.csv  2019-01-19 12:37  \n",
      "1   cloud  03075099999.csv  2019-01-19 12:37  \n",
      "2   cloud  03091099999.csv  2019-01-19 12:37  \n",
      "3   cloud  03159099999.csv  2019-01-19 12:37  \n",
      "4   cloud  03262099999.csv  2019-01-19 12:37  \n",
      "5   cloud  03311099999.csv  2019-01-19 12:37  \n",
      "6   cloud  03379099999.csv  2019-01-19 12:37  \n",
      "7   cloud  03396099999.csv  2019-01-19 12:37  \n",
      "8   cloud  03497099999.csv  2019-01-19 12:37  \n",
      "9   cloud  03601099999.csv  2019-01-19 12:37  \n",
      "10  cloud  03777099999.csv  2019-01-19 12:37  \n",
      "11  cloud  03795099999.csv  2019-01-19 12:37  \n",
      "12  cloud  03804099999.csv  2019-01-19 12:37  \n",
      "13  cloud  03811099999.csv  2019-01-19 12:37  \n",
      "14  cloud  03856099999.csv  2019-01-19 12:37  \n",
      "15  cloud  03864099999.csv  2019-01-19 12:37  \n",
      "16  cloud  03894099999.csv  2019-01-19 12:37  \n",
      "17  cloud  03953099999.csv  2019-01-19 12:37  \n",
      "18  cloud  03973099999.csv  2019-01-19 12:37  \n",
      "19  cloud  03980099999.csv  2019-01-19 12:37  \n",
      "20  cloud  99006199999.csv  2019-01-19 12:37  \n",
      "     type         filename          cloud_date                  local_date\n",
      "0   cloud  03005099999.csv  2019-01-19 12:37    2020-08-17 21:33:35.744025\n",
      "1   cloud  03075099999.csv  2019-01-19 12:37    2020-08-17 21:33:32.744734\n",
      "2   cloud  03091099999.csv  2019-01-19 12:37    2020-08-17 21:33:32.469024\n",
      "3   cloud  03159099999.csv  2019-01-19 12:37    2020-08-17 21:33:33.838742\n",
      "4   cloud  03262099999.csv  2019-01-19 12:37    2020-08-17 21:33:34.383386\n",
      "5   cloud  03311099999.csv  2019-01-19 12:37    2020-08-17 21:33:31.891959\n",
      "6   cloud  03379099999.csv  2019-01-19 12:37    2020-08-17 21:33:34.906430\n",
      "7   cloud  03396099999.csv  2019-01-19 12:37    2020-08-17 21:33:34.115695\n",
      "8   cloud  03497099999.csv  2019-01-19 12:37    2020-08-17 21:33:36.032973\n",
      "9   cloud  03601099999.csv  2019-01-19 12:37    2020-08-17 21:33:34.649159\n",
      "10  cloud  03777099999.csv  2019-01-19 12:37    2020-08-17 21:33:36.338868\n",
      "11  cloud  03795099999.csv  2019-01-19 12:37    2020-08-17 21:33:36.592747\n",
      "12  cloud  03804099999.csv  2019-01-19 12:37    2020-08-17 21:33:31.359077\n",
      "13  cloud  03811099999.csv  2019-01-19 12:37    2020-08-17 21:33:35.186642\n",
      "14  cloud  03856099999.csv  2019-01-19 12:37    2020-08-17 21:33:33.544504\n",
      "15  cloud  03864099999.csv  2019-01-19 12:37    2020-08-17 21:33:33.286524\n",
      "16  cloud  03894099999.csv  2019-01-19 12:37    2020-08-17 21:33:32.191168\n",
      "17  cloud  03953099999.csv  2019-01-19 12:37    2020-08-17 21:33:35.460587\n",
      "18  cloud  03973099999.csv  2019-01-19 12:37    2020-08-17 21:33:31.081319\n",
      "19  cloud  03980099999.csv  2019-01-19 12:37    2020-08-17 21:33:33.013320\n",
      "20  cloud  99006199999.csv  2019-01-19 12:37    2020-08-17 21:33:31.593311\n",
      "changes to exising 0\n",
      "number to download 1\n"
     ]
    },
    {
     "data": {
      "text/plain": [
       "{'newname.csv'}"
      ]
     },
     "execution_count": 17,
     "metadata": {},
     "output_type": "execute_result"
    }
   ],
   "source": [
    "# identify filename and date of file in directory\n",
    "dir_path = Path.home() / 'data_downloads' / 'noaa_daily_avg_temps' / '1929'\n",
    "local_list = []\n",
    "for file_name in os.listdir(dir_path):\n",
    "    date = os.stat(os.path.join(dir_path, file_name)).st_ctime\n",
    "    local_list.append(('local', file_name, str(datetime.datetime.fromtimestamp(date))))\n",
    "\n",
    "# identify filename and file of file in cloud\n",
    "cloud_list = []\n",
    "file, date = None, None\n",
    "base_url = 'https://www.ncei.noaa.gov/data/global-summary-of-the-day/access'\n",
    "year = '1929'\n",
    "\n",
    "response = requests.get('https://www.ncei.noaa.gov/data/global-summary-of-the-day/access/1929')\n",
    "parsed_html = BS(response.content, 'html.parser')\n",
    "for item in parsed_html('tr'):\n",
    "    href = item('a')\n",
    "    file = href[0].get_text() if href and '.csv' in href[0].get_text() else None\n",
    "    td = item('td', {'align': 'right'})\n",
    "    date = td[0].get_text() if td and re.match(r'\\d\\d\\d\\d-\\d\\d-\\d\\d', td[0].get_text()) else None\n",
    "    if date and file:\n",
    "        cloud_list.append(('cloud', file, date))\n",
    "        \n",
    "# TEST only\n",
    "# add new tuple to list to create a different (for testing)\n",
    "local_list.append(('local', 'newname.csv', '2020-08-37 21:33:33.544504'))\n",
    "\n",
    "# convert both lists into dataframes\n",
    "cloud_df = pd.DataFrame(cloud_list, columns = ['type', 'filename', 'cloud_date'])\n",
    "local_df = pd.DataFrame(local_list, columns = ['type', 'filename', 'local_date'])\n",
    "\n",
    "# compare the dataframes and see if there are files in cloud that aren't in local\n",
    "diff_df = pd.concat([local_df, cloud_df]).drop_duplicates(subset = ['filename'], keep=False)\n",
    "print('new files', len(diff_df))\n",
    "\n",
    "# create new file_df dataframe that matches the two separate ones\n",
    "file_df = pd.DataFrame(columns = ['type', 'filename', 'cloud_date'])\n",
    "# add first dataframe to file_df\n",
    "file_df = file_df.append(cloud_df)\n",
    "print(file_df)\n",
    "# add dates second dataframe to a new column on file_df where filenames match\n",
    "file_df['local_date'] = file_df['filename'].map(local_df.set_index('filename')['local_date'])\n",
    "print(file_df)\n",
    "\n",
    "list_of_names = file_df['filename'].to_list()\n",
    "\n",
    "# evaluate if any files in the cloud have changed since they were originally downloaded locally\n",
    "changes_df = file_df[(file_df['cloud_date'] > file_df['local_date'])]\n",
    "print('changes to exising', len(changes_df))\n",
    "\n",
    "# combine changes_df and diff_df to get all file that need to be downloaded, or re-downloaded\n",
    "download_df = changes_df.append(diff_df)\n",
    "print('number to download', len(download_df))\n",
    "\n",
    "return set(download_df['filename'].to_list())"
   ]
  },
  {
   "cell_type": "code",
   "execution_count": 30,
   "metadata": {},
   "outputs": [],
   "source": [
    "# identify filename and date of file in directory\n",
    "dir_path = Path.home() / 'data_downloads' / 'noaa_daily_avg_temps' / '1929'\n",
    "local_list = []\n",
    "for file_name in os.listdir(dir_path):\n",
    "    date = os.stat(os.path.join(dir_path, file_name)).st_ctime\n",
    "    local_list.append(('local', file_name, str(datetime.datetime.fromtimestamp(date))))"
   ]
  },
  {
   "cell_type": "code",
   "execution_count": 37,
   "metadata": {},
   "outputs": [],
   "source": [
    "# identify filename and file of file in cloud\n",
    "cloud_list = []\n",
    "file, date = None, None\n",
    "base_url = 'https://www.ncei.noaa.gov/data/global-summary-of-the-day/access'\n",
    "year = '1929'\n",
    "\n",
    "response = requests.get('https://www.ncei.noaa.gov/data/global-summary-of-the-day/access/1929')\n",
    "parsed_html = BS(response.content, 'html.parser')\n",
    "for item in parsed_html('tr'):\n",
    "    href = item('a')\n",
    "    file = href[0].get_text() if href and '.csv' in href[0].get_text() else None\n",
    "    td = item('td', {'align': 'right'})\n",
    "    date = td[0].get_text() if td and re.match(r'\\d\\d\\d\\d-\\d\\d-\\d\\d', td[0].get_text()) else None\n",
    "    if date and file:\n",
    "        cloud_list.append(('cloud', file, date))"
   ]
  },
  {
   "cell_type": "code",
   "execution_count": 32,
   "metadata": {},
   "outputs": [],
   "source": [
    "# TEST only\n",
    "# add new tuple to list to create a different (for testing)\n",
    "local_list.append(('local', 'newname.csv', '2020-08-17 21:33:33.544504'))"
   ]
  },
  {
   "cell_type": "code",
   "execution_count": 33,
   "metadata": {},
   "outputs": [],
   "source": [
    "# convert both lists into dataframes\n",
    "cloud_df = pd.DataFrame(cloud_list, columns = ['type', 'filename', 'date'])\n",
    "local_df = pd.DataFrame(local_list, columns = ['type', 'filename', 'date'])"
   ]
  },
  {
   "cell_type": "code",
   "execution_count": 34,
   "metadata": {},
   "outputs": [
    {
     "data": {
      "text/plain": [
       "1"
      ]
     },
     "execution_count": 34,
     "metadata": {},
     "output_type": "execute_result"
    }
   ],
   "source": [
    "# compare the dataframes and see if there are files in cloud that aren't in local\n",
    "diff_df = pd.concat([local_df, cloud_df]).drop_duplicates(subset = ['filename'], keep=False)\n",
    "len(diff_df)"
   ]
  },
  {
   "cell_type": "code",
   "execution_count": 18,
   "metadata": {},
   "outputs": [],
   "source": [
    "# create new file_df dataframe that matches the two separate ones\n",
    "file_df = pd.DataFrame(columns = ['type', 'filename', 'date'])\n",
    "# add first dataframe to file_df\n",
    "file_df = file_df.append(cloud_df)\n",
    "# add dates second dataframe to a new column on file_df where filenames match\n",
    "file_df['local_date'] = file_df['filename'].map(local_df.set_index('filename')['date'])"
   ]
  },
  {
   "cell_type": "code",
   "execution_count": 19,
   "metadata": {},
   "outputs": [
    {
     "data": {
      "text/html": [
       "<div>\n",
       "<style scoped>\n",
       "    .dataframe tbody tr th:only-of-type {\n",
       "        vertical-align: middle;\n",
       "    }\n",
       "\n",
       "    .dataframe tbody tr th {\n",
       "        vertical-align: top;\n",
       "    }\n",
       "\n",
       "    .dataframe thead th {\n",
       "        text-align: right;\n",
       "    }\n",
       "</style>\n",
       "<table border=\"1\" class=\"dataframe\">\n",
       "  <thead>\n",
       "    <tr style=\"text-align: right;\">\n",
       "      <th></th>\n",
       "      <th>type</th>\n",
       "      <th>filename</th>\n",
       "      <th>date</th>\n",
       "      <th>local_date</th>\n",
       "    </tr>\n",
       "  </thead>\n",
       "  <tbody>\n",
       "    <tr>\n",
       "      <th>0</th>\n",
       "      <td>cloud</td>\n",
       "      <td>03005099999.csv</td>\n",
       "      <td>2019-01-19 12:37</td>\n",
       "      <td>2020-08-17 21:33:35.744025</td>\n",
       "    </tr>\n",
       "    <tr>\n",
       "      <th>1</th>\n",
       "      <td>cloud</td>\n",
       "      <td>03075099999.csv</td>\n",
       "      <td>2019-01-19 12:37</td>\n",
       "      <td>2020-08-17 21:33:32.744734</td>\n",
       "    </tr>\n",
       "    <tr>\n",
       "      <th>2</th>\n",
       "      <td>cloud</td>\n",
       "      <td>03091099999.csv</td>\n",
       "      <td>2019-01-19 12:37</td>\n",
       "      <td>2020-08-17 21:33:32.469024</td>\n",
       "    </tr>\n",
       "    <tr>\n",
       "      <th>3</th>\n",
       "      <td>cloud</td>\n",
       "      <td>03159099999.csv</td>\n",
       "      <td>2019-01-19 12:37</td>\n",
       "      <td>2020-08-17 21:33:33.838742</td>\n",
       "    </tr>\n",
       "    <tr>\n",
       "      <th>4</th>\n",
       "      <td>cloud</td>\n",
       "      <td>03262099999.csv</td>\n",
       "      <td>2019-01-19 12:37</td>\n",
       "      <td>2020-08-17 21:33:34.383386</td>\n",
       "    </tr>\n",
       "    <tr>\n",
       "      <th>5</th>\n",
       "      <td>cloud</td>\n",
       "      <td>03311099999.csv</td>\n",
       "      <td>2019-01-19 12:37</td>\n",
       "      <td>2020-08-17 21:33:31.891959</td>\n",
       "    </tr>\n",
       "    <tr>\n",
       "      <th>6</th>\n",
       "      <td>cloud</td>\n",
       "      <td>03379099999.csv</td>\n",
       "      <td>2019-01-19 12:37</td>\n",
       "      <td>2020-08-17 21:33:34.906430</td>\n",
       "    </tr>\n",
       "    <tr>\n",
       "      <th>7</th>\n",
       "      <td>cloud</td>\n",
       "      <td>03396099999.csv</td>\n",
       "      <td>2019-01-19 12:37</td>\n",
       "      <td>2020-08-17 21:33:34.115695</td>\n",
       "    </tr>\n",
       "    <tr>\n",
       "      <th>8</th>\n",
       "      <td>cloud</td>\n",
       "      <td>03497099999.csv</td>\n",
       "      <td>2019-01-19 12:37</td>\n",
       "      <td>2020-08-17 21:33:36.032973</td>\n",
       "    </tr>\n",
       "    <tr>\n",
       "      <th>9</th>\n",
       "      <td>cloud</td>\n",
       "      <td>03601099999.csv</td>\n",
       "      <td>2019-01-19 12:37</td>\n",
       "      <td>2020-08-17 21:33:34.649159</td>\n",
       "    </tr>\n",
       "    <tr>\n",
       "      <th>10</th>\n",
       "      <td>cloud</td>\n",
       "      <td>03777099999.csv</td>\n",
       "      <td>2019-01-19 12:37</td>\n",
       "      <td>2020-08-17 21:33:36.338868</td>\n",
       "    </tr>\n",
       "    <tr>\n",
       "      <th>11</th>\n",
       "      <td>cloud</td>\n",
       "      <td>03795099999.csv</td>\n",
       "      <td>2019-01-19 12:37</td>\n",
       "      <td>2020-08-17 21:33:36.592747</td>\n",
       "    </tr>\n",
       "    <tr>\n",
       "      <th>12</th>\n",
       "      <td>cloud</td>\n",
       "      <td>03804099999.csv</td>\n",
       "      <td>2019-01-19 12:37</td>\n",
       "      <td>2020-08-17 21:33:31.359077</td>\n",
       "    </tr>\n",
       "    <tr>\n",
       "      <th>13</th>\n",
       "      <td>cloud</td>\n",
       "      <td>03811099999.csv</td>\n",
       "      <td>2019-01-19 12:37</td>\n",
       "      <td>2020-08-17 21:33:35.186642</td>\n",
       "    </tr>\n",
       "    <tr>\n",
       "      <th>14</th>\n",
       "      <td>cloud</td>\n",
       "      <td>03856099999.csv</td>\n",
       "      <td>2019-01-19 12:37</td>\n",
       "      <td>2020-08-17 21:33:33.544504</td>\n",
       "    </tr>\n",
       "    <tr>\n",
       "      <th>15</th>\n",
       "      <td>cloud</td>\n",
       "      <td>03864099999.csv</td>\n",
       "      <td>2019-01-19 12:37</td>\n",
       "      <td>2020-08-17 21:33:33.286524</td>\n",
       "    </tr>\n",
       "    <tr>\n",
       "      <th>16</th>\n",
       "      <td>cloud</td>\n",
       "      <td>03894099999.csv</td>\n",
       "      <td>2019-01-19 12:37</td>\n",
       "      <td>2020-08-17 21:33:32.191168</td>\n",
       "    </tr>\n",
       "    <tr>\n",
       "      <th>17</th>\n",
       "      <td>cloud</td>\n",
       "      <td>03953099999.csv</td>\n",
       "      <td>2019-01-19 12:37</td>\n",
       "      <td>2020-08-17 21:33:35.460587</td>\n",
       "    </tr>\n",
       "    <tr>\n",
       "      <th>18</th>\n",
       "      <td>cloud</td>\n",
       "      <td>03973099999.csv</td>\n",
       "      <td>2019-01-19 12:37</td>\n",
       "      <td>2020-08-17 21:33:31.081319</td>\n",
       "    </tr>\n",
       "    <tr>\n",
       "      <th>19</th>\n",
       "      <td>cloud</td>\n",
       "      <td>03980099999.csv</td>\n",
       "      <td>2019-01-19 12:37</td>\n",
       "      <td>2020-08-17 21:33:33.013320</td>\n",
       "    </tr>\n",
       "    <tr>\n",
       "      <th>20</th>\n",
       "      <td>cloud</td>\n",
       "      <td>99006199999.csv</td>\n",
       "      <td>2019-01-19 12:37</td>\n",
       "      <td>2020-08-17 21:33:31.593311</td>\n",
       "    </tr>\n",
       "  </tbody>\n",
       "</table>\n",
       "</div>"
      ],
      "text/plain": [
       "     type         filename                date                  local_date\n",
       "0   cloud  03005099999.csv  2019-01-19 12:37    2020-08-17 21:33:35.744025\n",
       "1   cloud  03075099999.csv  2019-01-19 12:37    2020-08-17 21:33:32.744734\n",
       "2   cloud  03091099999.csv  2019-01-19 12:37    2020-08-17 21:33:32.469024\n",
       "3   cloud  03159099999.csv  2019-01-19 12:37    2020-08-17 21:33:33.838742\n",
       "4   cloud  03262099999.csv  2019-01-19 12:37    2020-08-17 21:33:34.383386\n",
       "5   cloud  03311099999.csv  2019-01-19 12:37    2020-08-17 21:33:31.891959\n",
       "6   cloud  03379099999.csv  2019-01-19 12:37    2020-08-17 21:33:34.906430\n",
       "7   cloud  03396099999.csv  2019-01-19 12:37    2020-08-17 21:33:34.115695\n",
       "8   cloud  03497099999.csv  2019-01-19 12:37    2020-08-17 21:33:36.032973\n",
       "9   cloud  03601099999.csv  2019-01-19 12:37    2020-08-17 21:33:34.649159\n",
       "10  cloud  03777099999.csv  2019-01-19 12:37    2020-08-17 21:33:36.338868\n",
       "11  cloud  03795099999.csv  2019-01-19 12:37    2020-08-17 21:33:36.592747\n",
       "12  cloud  03804099999.csv  2019-01-19 12:37    2020-08-17 21:33:31.359077\n",
       "13  cloud  03811099999.csv  2019-01-19 12:37    2020-08-17 21:33:35.186642\n",
       "14  cloud  03856099999.csv  2019-01-19 12:37    2020-08-17 21:33:33.544504\n",
       "15  cloud  03864099999.csv  2019-01-19 12:37    2020-08-17 21:33:33.286524\n",
       "16  cloud  03894099999.csv  2019-01-19 12:37    2020-08-17 21:33:32.191168\n",
       "17  cloud  03953099999.csv  2019-01-19 12:37    2020-08-17 21:33:35.460587\n",
       "18  cloud  03973099999.csv  2019-01-19 12:37    2020-08-17 21:33:31.081319\n",
       "19  cloud  03980099999.csv  2019-01-19 12:37    2020-08-17 21:33:33.013320\n",
       "20  cloud  99006199999.csv  2019-01-19 12:37    2020-08-17 21:33:31.593311"
      ]
     },
     "execution_count": 19,
     "metadata": {},
     "output_type": "execute_result"
    }
   ],
   "source": [
    "file_df"
   ]
  },
  {
   "cell_type": "code",
   "execution_count": 12,
   "metadata": {},
   "outputs": [
    {
     "data": {
      "text/plain": [
       "0"
      ]
     },
     "execution_count": 12,
     "metadata": {},
     "output_type": "execute_result"
    }
   ],
   "source": [
    "# evaluate if any files in the cloud have changed since they were originally downloaded locally\n",
    "changes_df = file_df[(file_df['date'] > file_df['local_date'])]\n",
    "len(changes_df)"
   ]
  },
  {
   "cell_type": "code",
   "execution_count": 13,
   "metadata": {},
   "outputs": [
    {
     "name": "stdout",
     "output_type": "stream",
     "text": [
      "1\n"
     ]
    },
    {
     "data": {
      "text/html": [
       "<div>\n",
       "<style scoped>\n",
       "    .dataframe tbody tr th:only-of-type {\n",
       "        vertical-align: middle;\n",
       "    }\n",
       "\n",
       "    .dataframe tbody tr th {\n",
       "        vertical-align: top;\n",
       "    }\n",
       "\n",
       "    .dataframe thead th {\n",
       "        text-align: right;\n",
       "    }\n",
       "</style>\n",
       "<table border=\"1\" class=\"dataframe\">\n",
       "  <thead>\n",
       "    <tr style=\"text-align: right;\">\n",
       "      <th></th>\n",
       "      <th>type</th>\n",
       "      <th>filename</th>\n",
       "      <th>date</th>\n",
       "      <th>local_date</th>\n",
       "    </tr>\n",
       "  </thead>\n",
       "  <tbody>\n",
       "    <tr>\n",
       "      <th>21</th>\n",
       "      <td>local</td>\n",
       "      <td>newname.csv</td>\n",
       "      <td>2020-08-17 21:33:33.544504</td>\n",
       "      <td>NaN</td>\n",
       "    </tr>\n",
       "  </tbody>\n",
       "</table>\n",
       "</div>"
      ],
      "text/plain": [
       "     type     filename                        date local_date\n",
       "21  local  newname.csv  2020-08-17 21:33:33.544504        NaN"
      ]
     },
     "execution_count": 13,
     "metadata": {},
     "output_type": "execute_result"
    }
   ],
   "source": [
    "# combine changes_df and diff_df to get all file that need to be downloaded, or re-downloaded\n",
    "download_df = changes_df.append(diff_df)\n",
    "print(len(download_df))\n",
    "download_df"
   ]
  },
  {
   "cell_type": "code",
   "execution_count": 38,
   "metadata": {},
   "outputs": [
    {
     "data": {
      "text/plain": [
       "<Response [200]>"
      ]
     },
     "execution_count": 38,
     "metadata": {},
     "output_type": "execute_result"
    }
   ],
   "source": [
    "requests.get(base_url + '/' + year + '/99006199999.csv')"
   ]
  }
 ],
 "metadata": {
  "kernelspec": {
   "display_name": "Python 3",
   "language": "python",
   "name": "python3"
  },
  "language_info": {
   "codemirror_mode": {
    "name": "ipython",
    "version": 3
   },
   "file_extension": ".py",
   "mimetype": "text/x-python",
   "name": "python",
   "nbconvert_exporter": "python",
   "pygments_lexer": "ipython3",
   "version": "3.8.2"
  }
 },
 "nbformat": 4,
 "nbformat_minor": 4
}
